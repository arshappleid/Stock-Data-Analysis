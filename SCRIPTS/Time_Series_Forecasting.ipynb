{
 "cells": [
  {
   "attachments": {},
   "cell_type": "markdown",
   "metadata": {},
   "source": [
    "Import required libraries."
   ]
  },
  {
   "cell_type": "code",
   "execution_count": 20,
   "metadata": {},
   "outputs": [],
   "source": [
    "import pandas as pd\n",
    "import numpy as np\n",
    "from sklearn.model_selection import train_test_split \n",
    "from sklearn.linear_model import LinearRegression\n",
    "from sklearn import metrics"
   ]
  },
  {
   "cell_type": "code",
   "execution_count": 3,
   "metadata": {},
   "outputs": [
    {
     "data": {
      "text/html": [
       "<div>\n",
       "<style scoped>\n",
       "    .dataframe tbody tr th:only-of-type {\n",
       "        vertical-align: middle;\n",
       "    }\n",
       "\n",
       "    .dataframe tbody tr th {\n",
       "        vertical-align: top;\n",
       "    }\n",
       "\n",
       "    .dataframe thead th {\n",
       "        text-align: right;\n",
       "    }\n",
       "</style>\n",
       "<table border=\"1\" class=\"dataframe\">\n",
       "  <thead>\n",
       "    <tr style=\"text-align: right;\">\n",
       "      <th></th>\n",
       "      <th>Close</th>\n",
       "    </tr>\n",
       "  </thead>\n",
       "  <tbody>\n",
       "    <tr>\n",
       "      <th>0</th>\n",
       "      <td>48.583332</td>\n",
       "    </tr>\n",
       "    <tr>\n",
       "      <th>1</th>\n",
       "      <td>47.250000</td>\n",
       "    </tr>\n",
       "    <tr>\n",
       "      <th>2</th>\n",
       "      <td>46.958332</td>\n",
       "    </tr>\n",
       "    <tr>\n",
       "      <th>3</th>\n",
       "      <td>47.625000</td>\n",
       "    </tr>\n",
       "    <tr>\n",
       "      <th>4</th>\n",
       "      <td>48.500000</td>\n",
       "    </tr>\n",
       "    <tr>\n",
       "      <th>...</th>\n",
       "      <td>...</td>\n",
       "    </tr>\n",
       "    <tr>\n",
       "      <th>5858</th>\n",
       "      <td>139.830002</td>\n",
       "    </tr>\n",
       "    <tr>\n",
       "      <th>5859</th>\n",
       "      <td>141.399994</td>\n",
       "    </tr>\n",
       "    <tr>\n",
       "      <th>5860</th>\n",
       "      <td>141.220001</td>\n",
       "    </tr>\n",
       "    <tr>\n",
       "      <th>5861</th>\n",
       "      <td>140.809998</td>\n",
       "    </tr>\n",
       "    <tr>\n",
       "      <th>5862</th>\n",
       "      <td>140.539993</td>\n",
       "    </tr>\n",
       "  </tbody>\n",
       "</table>\n",
       "<p>5863 rows × 1 columns</p>\n",
       "</div>"
      ],
      "text/plain": [
       "           Close\n",
       "0      48.583332\n",
       "1      47.250000\n",
       "2      46.958332\n",
       "3      47.625000\n",
       "4      48.500000\n",
       "...          ...\n",
       "5858  139.830002\n",
       "5859  141.399994\n",
       "5860  141.220001\n",
       "5861  140.809998\n",
       "5862  140.539993\n",
       "\n",
       "[5863 rows x 1 columns]"
      ]
     },
     "execution_count": 3,
     "metadata": {},
     "output_type": "execute_result"
    }
   ],
   "source": [
    "data = pd.read_csv('./../RAW_DATA/JPMorgan Chase.csv');\n",
    "data = data[['Close']]\n",
    "data"
   ]
  },
  {
   "cell_type": "code",
   "execution_count": 29,
   "metadata": {},
   "outputs": [
    {
     "name": "stdout",
     "output_type": "stream",
     "text": [
      "lr confidence:  0.999\n",
      "[140.823]\n"
     ]
    },
    {
     "name": "stderr",
     "output_type": "stream",
     "text": [
      "/var/folders/dr/pf1stp7s4f12_v9y6qm60jxr0000gn/T/ipykernel_27456/2539237520.py:8: FutureWarning: In a future version of pandas all arguments of DataFrame.drop except for the argument 'labels' will be keyword-only.\n",
      "  X = data.drop(['Prediction'], 1)[:-forecast_out]\n",
      "/var/folders/dr/pf1stp7s4f12_v9y6qm60jxr0000gn/T/ipykernel_27456/2539237520.py:23: FutureWarning: In a future version of pandas all arguments of DataFrame.drop except for the argument 'labels' will be keyword-only.\n",
      "  x_forecast = data.drop(['Prediction'], 1)[:-forecast_out]\n"
     ]
    }
   ],
   "source": [
    "# Predict for the next 'n' days\n",
    "forecast_out = 1\n",
    "\n",
    "# Create another column (the target) shifted 'n' units up\n",
    "data['Prediction'] = data[['Close']].shift(-forecast_out)\n",
    "\n",
    "# Create the independent and dependent data sets\n",
    "X = data.drop(['Prediction'], 1)[:-forecast_out]\n",
    "y = data['Prediction'][:-forecast_out]\n",
    "\n",
    "# Split the data into 80% training and 20% testing\n",
    "x_train, x_test, y_train, y_test = train_test_split(X, y, test_size=0.2)\n",
    "\n",
    "# Create and train the Linear Regression Model\n",
    "lr = LinearRegression()\n",
    "lr.fit(x_train, y_train)\n",
    "\n",
    "# Test the model using score\n",
    "lr_confidence = lr.score(x_test, y_test)\n",
    "print(\"lr confidence: \", lr_confidence.round(3))\n",
    "\n",
    "# Get the last 'n' rows of the original data set\n",
    "x_forecast = data.drop(['Prediction'], 1)[:-forecast_out]\n",
    "x_forecast = x_forecast.tail(forecast_out)\n",
    "\n",
    "# Print the predictions for the next 'n' days\n",
    "lr_prediction = lr.predict(x_forecast)\n",
    "print(lr_prediction.round(3))\n"
   ]
  },
  {
   "attachments": {},
   "cell_type": "markdown",
   "metadata": {},
   "source": [
    "With the above model , we see that we can predict if a stock is likely to increase in value in the next n days or not. The lower the number of n , the more precise our model is as per the lr confidence value. \n",
    "\n",
    "We can extract 2 important data points from this model.\n",
    "\t1. Value of the next closing date value.\n",
    "\t2. Avg Closing price of the next n days , where n = 5.\n",
    "\n",
    "Above two values can be useful to make important suggestions , if we should buy or not buy stocks at a certain date."
   ]
  },
  {
   "cell_type": "code",
   "execution_count": 41,
   "metadata": {},
   "outputs": [
    {
     "name": "stdout",
     "output_type": "stream",
     "text": [
      "{'Next day Forecast': 140.739, 'Next 5 day average': 140.798}\n"
     ]
    },
    {
     "name": "stderr",
     "output_type": "stream",
     "text": [
      "/var/folders/dr/pf1stp7s4f12_v9y6qm60jxr0000gn/T/ipykernel_27456/3960093110.py:9: FutureWarning: In a future version of pandas all arguments of DataFrame.drop except for the argument 'labels' will be keyword-only.\n",
      "  X = data.drop(['Prediction'], 1)[:-forecast_out]\n",
      "/var/folders/dr/pf1stp7s4f12_v9y6qm60jxr0000gn/T/ipykernel_27456/3960093110.py:24: FutureWarning: In a future version of pandas all arguments of DataFrame.drop except for the argument 'labels' will be keyword-only.\n",
      "  x_forecast = data.drop(['Prediction'], 1)[:-forecast_out]\n",
      "/var/folders/dr/pf1stp7s4f12_v9y6qm60jxr0000gn/T/ipykernel_27456/3960093110.py:9: FutureWarning: In a future version of pandas all arguments of DataFrame.drop except for the argument 'labels' will be keyword-only.\n",
      "  X = data.drop(['Prediction'], 1)[:-forecast_out]\n",
      "/var/folders/dr/pf1stp7s4f12_v9y6qm60jxr0000gn/T/ipykernel_27456/3960093110.py:24: FutureWarning: In a future version of pandas all arguments of DataFrame.drop except for the argument 'labels' will be keyword-only.\n",
      "  x_forecast = data.drop(['Prediction'], 1)[:-forecast_out]\n"
     ]
    }
   ],
   "source": [
    "def getForecast(n : int , data):\n",
    "\t# Predict for the next 'n' days\n",
    "\tforecast_out = 1\n",
    "\n",
    "\t# Create another column (the target) shifted 'n' units up\n",
    "\tdata['Prediction'] = data[['Close']].shift(-forecast_out)\n",
    "\n",
    "\t# Create the independent and dependent data sets\n",
    "\tX = data.drop(['Prediction'], 1)[:-forecast_out]\n",
    "\ty = data['Prediction'][:-forecast_out]\n",
    "\n",
    "\t# Split the data into 80% training and 20% testing\n",
    "\tx_train, x_test, y_train, y_test = train_test_split(X, y, test_size=0.2)\n",
    "\n",
    "\t# Create and train the Linear Regression Model\n",
    "\tlr = LinearRegression()\n",
    "\tlr.fit(x_train, y_train)\n",
    "\n",
    "\t# Test the model using score\n",
    "\tlr_confidence = lr.score(x_test, y_test)\n",
    "\t#print(\"lr confidence: \", lr_confidence.round(3))\n",
    "\n",
    "\t# Get the last 'n' rows of the original data set\n",
    "\tx_forecast = data.drop(['Prediction'], 1)[:-forecast_out]\n",
    "\tx_forecast = x_forecast.tail(forecast_out)\n",
    "\n",
    "\t# Print the predictions for the next 'n' days\n",
    "\tlr_prediction = lr.predict(x_forecast)\n",
    "\treturn (lr_prediction.round(3))\n",
    "\n",
    "def getTimeSeriesPrediction(data):\n",
    "\tresp = {};\n",
    "\tresp['Next day Forecast'] = getForecast(1, data)[0];\n",
    "\tresp['Next 5 day average'] = getForecast(5, data).mean();\n",
    "\treturn resp;\n",
    "\n",
    "\n",
    "resp = getTimeSeriesPrediction(data);\n",
    "print(resp);\n",
    "\t"
   ]
  }
 ],
 "metadata": {
  "kernelspec": {
   "display_name": "Machine_Learning",
   "language": "python",
   "name": "python3"
  },
  "language_info": {
   "codemirror_mode": {
    "name": "ipython",
    "version": 3
   },
   "file_extension": ".py",
   "mimetype": "text/x-python",
   "name": "python",
   "nbconvert_exporter": "python",
   "pygments_lexer": "ipython3",
   "version": "3.10.11"
  },
  "orig_nbformat": 4
 },
 "nbformat": 4,
 "nbformat_minor": 2
}
